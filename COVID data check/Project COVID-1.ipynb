{
 "cells": [
  {
   "cell_type": "markdown",
   "metadata": {},
   "source": [
    "### **Project COVID**"
   ]
  },
  {
   "cell_type": "markdown",
   "metadata": {},
   "source": [
    "Insight questions on COVID-19 dataset:\n",
    "- Which countries have the top 5 highest total deaths?\n",
    "- Which country's has highest % of population vaccinated? Lowest?\n",
    "\n",
    "- What is the correlation between human development index (HDI) and total deaths per country or icu_patients_per_million?\n",
    "\n",
    "- Is population density a strong indicator of death rate in country?\n",
    "\n",
    "- Correlation between COVID-19 stringency index at location and new cases per million"
   ]
  },
  {
   "cell_type": "code",
   "execution_count": 109,
   "metadata": {},
   "outputs": [],
   "source": [
    "#Importing libraries and tools\n",
    "import pandas as pd\n",
    "import numpy as np\n",
    "import seaborn as sns\n",
    "import matplotlib.pyplot as plt "
   ]
  },
  {
   "cell_type": "code",
   "execution_count": 110,
   "metadata": {},
   "outputs": [],
   "source": [
    "#Reading the csv data\n",
    "covid_data= pd.read_csv('owid-covid-data.csv')"
   ]
  },
  {
   "cell_type": "code",
   "execution_count": 111,
   "metadata": {},
   "outputs": [
    {
     "data": {
      "text/html": [
       "<div>\n",
       "<style scoped>\n",
       "    .dataframe tbody tr th:only-of-type {\n",
       "        vertical-align: middle;\n",
       "    }\n",
       "\n",
       "    .dataframe tbody tr th {\n",
       "        vertical-align: top;\n",
       "    }\n",
       "\n",
       "    .dataframe thead th {\n",
       "        text-align: right;\n",
       "    }\n",
       "</style>\n",
       "<table border=\"1\" class=\"dataframe\">\n",
       "  <thead>\n",
       "    <tr style=\"text-align: right;\">\n",
       "      <th></th>\n",
       "      <th>iso_code</th>\n",
       "      <th>continent</th>\n",
       "      <th>location</th>\n",
       "      <th>date</th>\n",
       "      <th>total_cases</th>\n",
       "      <th>new_cases</th>\n",
       "      <th>new_cases_smoothed</th>\n",
       "      <th>total_deaths</th>\n",
       "      <th>new_deaths</th>\n",
       "      <th>new_deaths_smoothed</th>\n",
       "      <th>...</th>\n",
       "      <th>female_smokers</th>\n",
       "      <th>male_smokers</th>\n",
       "      <th>handwashing_facilities</th>\n",
       "      <th>hospital_beds_per_thousand</th>\n",
       "      <th>life_expectancy</th>\n",
       "      <th>human_development_index</th>\n",
       "      <th>excess_mortality_cumulative_absolute</th>\n",
       "      <th>excess_mortality_cumulative</th>\n",
       "      <th>excess_mortality</th>\n",
       "      <th>excess_mortality_cumulative_per_million</th>\n",
       "    </tr>\n",
       "  </thead>\n",
       "  <tbody>\n",
       "    <tr>\n",
       "      <th>0</th>\n",
       "      <td>AFG</td>\n",
       "      <td>Asia</td>\n",
       "      <td>Afghanistan</td>\n",
       "      <td>2020-02-24</td>\n",
       "      <td>5.0</td>\n",
       "      <td>5.0</td>\n",
       "      <td>NaN</td>\n",
       "      <td>NaN</td>\n",
       "      <td>NaN</td>\n",
       "      <td>NaN</td>\n",
       "      <td>...</td>\n",
       "      <td>NaN</td>\n",
       "      <td>NaN</td>\n",
       "      <td>37.746</td>\n",
       "      <td>0.5</td>\n",
       "      <td>64.83</td>\n",
       "      <td>0.511</td>\n",
       "      <td>NaN</td>\n",
       "      <td>NaN</td>\n",
       "      <td>NaN</td>\n",
       "      <td>NaN</td>\n",
       "    </tr>\n",
       "    <tr>\n",
       "      <th>1</th>\n",
       "      <td>AFG</td>\n",
       "      <td>Asia</td>\n",
       "      <td>Afghanistan</td>\n",
       "      <td>2020-02-25</td>\n",
       "      <td>5.0</td>\n",
       "      <td>0.0</td>\n",
       "      <td>NaN</td>\n",
       "      <td>NaN</td>\n",
       "      <td>NaN</td>\n",
       "      <td>NaN</td>\n",
       "      <td>...</td>\n",
       "      <td>NaN</td>\n",
       "      <td>NaN</td>\n",
       "      <td>37.746</td>\n",
       "      <td>0.5</td>\n",
       "      <td>64.83</td>\n",
       "      <td>0.511</td>\n",
       "      <td>NaN</td>\n",
       "      <td>NaN</td>\n",
       "      <td>NaN</td>\n",
       "      <td>NaN</td>\n",
       "    </tr>\n",
       "    <tr>\n",
       "      <th>2</th>\n",
       "      <td>AFG</td>\n",
       "      <td>Asia</td>\n",
       "      <td>Afghanistan</td>\n",
       "      <td>2020-02-26</td>\n",
       "      <td>5.0</td>\n",
       "      <td>0.0</td>\n",
       "      <td>NaN</td>\n",
       "      <td>NaN</td>\n",
       "      <td>NaN</td>\n",
       "      <td>NaN</td>\n",
       "      <td>...</td>\n",
       "      <td>NaN</td>\n",
       "      <td>NaN</td>\n",
       "      <td>37.746</td>\n",
       "      <td>0.5</td>\n",
       "      <td>64.83</td>\n",
       "      <td>0.511</td>\n",
       "      <td>NaN</td>\n",
       "      <td>NaN</td>\n",
       "      <td>NaN</td>\n",
       "      <td>NaN</td>\n",
       "    </tr>\n",
       "    <tr>\n",
       "      <th>3</th>\n",
       "      <td>AFG</td>\n",
       "      <td>Asia</td>\n",
       "      <td>Afghanistan</td>\n",
       "      <td>2020-02-27</td>\n",
       "      <td>5.0</td>\n",
       "      <td>0.0</td>\n",
       "      <td>NaN</td>\n",
       "      <td>NaN</td>\n",
       "      <td>NaN</td>\n",
       "      <td>NaN</td>\n",
       "      <td>...</td>\n",
       "      <td>NaN</td>\n",
       "      <td>NaN</td>\n",
       "      <td>37.746</td>\n",
       "      <td>0.5</td>\n",
       "      <td>64.83</td>\n",
       "      <td>0.511</td>\n",
       "      <td>NaN</td>\n",
       "      <td>NaN</td>\n",
       "      <td>NaN</td>\n",
       "      <td>NaN</td>\n",
       "    </tr>\n",
       "    <tr>\n",
       "      <th>4</th>\n",
       "      <td>AFG</td>\n",
       "      <td>Asia</td>\n",
       "      <td>Afghanistan</td>\n",
       "      <td>2020-02-28</td>\n",
       "      <td>5.0</td>\n",
       "      <td>0.0</td>\n",
       "      <td>NaN</td>\n",
       "      <td>NaN</td>\n",
       "      <td>NaN</td>\n",
       "      <td>NaN</td>\n",
       "      <td>...</td>\n",
       "      <td>NaN</td>\n",
       "      <td>NaN</td>\n",
       "      <td>37.746</td>\n",
       "      <td>0.5</td>\n",
       "      <td>64.83</td>\n",
       "      <td>0.511</td>\n",
       "      <td>NaN</td>\n",
       "      <td>NaN</td>\n",
       "      <td>NaN</td>\n",
       "      <td>NaN</td>\n",
       "    </tr>\n",
       "  </tbody>\n",
       "</table>\n",
       "<p>5 rows × 67 columns</p>\n",
       "</div>"
      ],
      "text/plain": [
       "  iso_code continent     location        date  total_cases  new_cases  \\\n",
       "0      AFG      Asia  Afghanistan  2020-02-24          5.0        5.0   \n",
       "1      AFG      Asia  Afghanistan  2020-02-25          5.0        0.0   \n",
       "2      AFG      Asia  Afghanistan  2020-02-26          5.0        0.0   \n",
       "3      AFG      Asia  Afghanistan  2020-02-27          5.0        0.0   \n",
       "4      AFG      Asia  Afghanistan  2020-02-28          5.0        0.0   \n",
       "\n",
       "   new_cases_smoothed  total_deaths  new_deaths  new_deaths_smoothed  ...  \\\n",
       "0                 NaN           NaN         NaN                  NaN  ...   \n",
       "1                 NaN           NaN         NaN                  NaN  ...   \n",
       "2                 NaN           NaN         NaN                  NaN  ...   \n",
       "3                 NaN           NaN         NaN                  NaN  ...   \n",
       "4                 NaN           NaN         NaN                  NaN  ...   \n",
       "\n",
       "   female_smokers  male_smokers  handwashing_facilities  \\\n",
       "0             NaN           NaN                  37.746   \n",
       "1             NaN           NaN                  37.746   \n",
       "2             NaN           NaN                  37.746   \n",
       "3             NaN           NaN                  37.746   \n",
       "4             NaN           NaN                  37.746   \n",
       "\n",
       "   hospital_beds_per_thousand  life_expectancy  human_development_index  \\\n",
       "0                         0.5            64.83                    0.511   \n",
       "1                         0.5            64.83                    0.511   \n",
       "2                         0.5            64.83                    0.511   \n",
       "3                         0.5            64.83                    0.511   \n",
       "4                         0.5            64.83                    0.511   \n",
       "\n",
       "   excess_mortality_cumulative_absolute  excess_mortality_cumulative  \\\n",
       "0                                   NaN                          NaN   \n",
       "1                                   NaN                          NaN   \n",
       "2                                   NaN                          NaN   \n",
       "3                                   NaN                          NaN   \n",
       "4                                   NaN                          NaN   \n",
       "\n",
       "   excess_mortality  excess_mortality_cumulative_per_million  \n",
       "0               NaN                                      NaN  \n",
       "1               NaN                                      NaN  \n",
       "2               NaN                                      NaN  \n",
       "3               NaN                                      NaN  \n",
       "4               NaN                                      NaN  \n",
       "\n",
       "[5 rows x 67 columns]"
      ]
     },
     "execution_count": 111,
     "metadata": {},
     "output_type": "execute_result"
    }
   ],
   "source": [
    "# Taking a look at the first 5 rows of data\n",
    "covid_data.head(5)"
   ]
  },
  {
   "cell_type": "code",
   "execution_count": 145,
   "metadata": {},
   "outputs": [
    {
     "name": "stdout",
     "output_type": "stream",
     "text": [
      "<class 'pandas.core.frame.DataFrame'>\n",
      "RangeIndex: 166326 entries, 0 to 166325\n",
      "Data columns (total 67 columns):\n",
      " #   Column                                      Non-Null Count   Dtype  \n",
      "---  ------                                      --------------   -----  \n",
      " 0   iso_code                                    166326 non-null  object \n",
      " 1   continent                                   156370 non-null  object \n",
      " 2   location                                    166326 non-null  object \n",
      " 3   date                                        166326 non-null  object \n",
      " 4   total_cases                                 163293 non-null  float64\n",
      " 5   new_cases                                   163133 non-null  float64\n",
      " 6   new_cases_smoothed                          161150 non-null  float64\n",
      " 7   total_deaths                                145451 non-null  float64\n",
      " 8   new_deaths                                  145487 non-null  float64\n",
      " 9   new_deaths_smoothed                         143390 non-null  float64\n",
      " 10  total_cases_per_million                     162535 non-null  float64\n",
      " 11  new_cases_per_million                       162375 non-null  float64\n",
      " 12  new_cases_smoothed_per_million              160398 non-null  float64\n",
      " 13  total_deaths_per_million                    144706 non-null  float64\n",
      " 14  new_deaths_per_million                      144742 non-null  float64\n",
      " 15  new_deaths_smoothed_per_million             142651 non-null  float64\n",
      " 16  reproduction_rate                           125820 non-null  float64\n",
      " 17  icu_patients                                23463 non-null   float64\n",
      " 18  icu_patients_per_million                    23463 non-null   float64\n",
      " 19  hosp_patients                               24617 non-null   float64\n",
      " 20  hosp_patients_per_million                   24617 non-null   float64\n",
      " 21  weekly_icu_admissions                       5433 non-null    float64\n",
      " 22  weekly_icu_admissions_per_million           5433 non-null    float64\n",
      " 23  weekly_hosp_admissions                      10923 non-null   float64\n",
      " 24  weekly_hosp_admissions_per_million          10923 non-null   float64\n",
      " 25  new_tests                                   67317 non-null   float64\n",
      " 26  total_tests                                 69255 non-null   float64\n",
      " 27  total_tests_per_thousand                    69255 non-null   float64\n",
      " 28  new_tests_per_thousand                      67317 non-null   float64\n",
      " 29  new_tests_smoothed                          84035 non-null   float64\n",
      " 30  new_tests_smoothed_per_thousand             84035 non-null   float64\n",
      " 31  positive_rate                               78655 non-null   float64\n",
      " 32  tests_per_case                              78084 non-null   float64\n",
      " 33  tests_units                                 86386 non-null   object \n",
      " 34  total_vaccinations                          45194 non-null   float64\n",
      " 35  people_vaccinated                           42987 non-null   float64\n",
      " 36  people_fully_vaccinated                     40241 non-null   float64\n",
      " 37  total_boosters                              17539 non-null   float64\n",
      " 38  new_vaccinations                            37447 non-null   float64\n",
      " 39  new_vaccinations_smoothed                   84398 non-null   float64\n",
      " 40  total_vaccinations_per_hundred              45194 non-null   float64\n",
      " 41  people_vaccinated_per_hundred               42987 non-null   float64\n",
      " 42  people_fully_vaccinated_per_hundred         40241 non-null   float64\n",
      " 43  total_boosters_per_hundred                  17539 non-null   float64\n",
      " 44  new_vaccinations_smoothed_per_million       84398 non-null   float64\n",
      " 45  new_people_vaccinated_smoothed              83088 non-null   float64\n",
      " 46  new_people_vaccinated_smoothed_per_hundred  83088 non-null   float64\n",
      " 47  stringency_index                            130072 non-null  float64\n",
      " 48  population                                  165251 non-null  float64\n",
      " 49  population_density                          147928 non-null  float64\n",
      " 50  median_age                                  137831 non-null  float64\n",
      " 51  aged_65_older                               136337 non-null  float64\n",
      " 52  aged_70_older                               137092 non-null  float64\n",
      " 53  gdp_per_capita                              138504 non-null  float64\n",
      " 54  extreme_poverty                             91215 non-null   float64\n",
      " 55  cardiovasc_death_rate                       136778 non-null  float64\n",
      " 56  diabetes_prevalence                         143949 non-null  float64\n",
      " 57  female_smokers                              106050 non-null  float64\n",
      " 58  male_smokers                                104595 non-null  float64\n",
      " 59  handwashing_facilities                      68569 non-null   float64\n",
      " 60  hospital_beds_per_thousand                  123664 non-null  float64\n",
      " 61  life_expectancy                             155268 non-null  float64\n",
      " 62  human_development_index                     136253 non-null  float64\n",
      " 63  excess_mortality_cumulative_absolute        5696 non-null    float64\n",
      " 64  excess_mortality_cumulative                 5696 non-null    float64\n",
      " 65  excess_mortality                            5696 non-null    float64\n",
      " 66  excess_mortality_cumulative_per_million     5696 non-null    float64\n",
      "dtypes: float64(62), object(5)\n",
      "memory usage: 85.0+ MB\n"
     ]
    }
   ],
   "source": [
    "# Looking at info on the dataset\n",
    "covid_data.info() #Data consists of float64 and object data types, there are unequal counts of the majority of the data"
   ]
  },
  {
   "cell_type": "markdown",
   "metadata": {},
   "source": [
    "The dataset contains 67 columns x 166326 rows, consists mainly of object and float64 (numeric) data types, and has 85.0+ MB memory usage."
   ]
  },
  {
   "cell_type": "code",
   "execution_count": 141,
   "metadata": {},
   "outputs": [
    {
     "name": "stdout",
     "output_type": "stream",
     "text": [
      "0\n"
     ]
    }
   ],
   "source": [
    "#checking for duplicates in all columns\n",
    "covid_duplic_data = covid_data.duplicated()\n",
    "\n",
    "# total count of duplicates in covid_data\n",
    "total_duplic_data = sum(covid_duplic_data == True)\n",
    "print(total_duplic_data)"
   ]
  },
  {
   "cell_type": "markdown",
   "metadata": {},
   "source": [
    "0 duplicates were found in the `covid_data` dataset, so removing rows is unnecessary so far."
   ]
  },
  {
   "cell_type": "code",
   "execution_count": 157,
   "metadata": {},
   "outputs": [
    {
     "name": "stdout",
     "output_type": "stream",
     "text": [
      "        total_cases  new_cases  new_cases_smoothed  total_deaths  new_deaths  \\\n",
      "0               5.0        5.0                 NaN           NaN         NaN   \n",
      "1               5.0        0.0                 NaN           NaN         NaN   \n",
      "2               5.0        0.0                 NaN           NaN         NaN   \n",
      "3               5.0        0.0                 NaN           NaN         NaN   \n",
      "4               5.0        0.0                 NaN           NaN         NaN   \n",
      "...             ...        ...                 ...           ...         ...   \n",
      "166321     236871.0      491.0             413.000        5395.0         0.0   \n",
      "166322     237503.0      632.0             416.286        5396.0         1.0   \n",
      "166323     237503.0        0.0             362.286        5396.0         0.0   \n",
      "166324     238739.0     1236.0             467.429        5397.0         1.0   \n",
      "166325     239019.0      280.0             459.429        5397.0         0.0   \n",
      "\n",
      "        new_deaths_smoothed  total_cases_per_million  new_cases_per_million  \\\n",
      "0                       NaN                    0.126                  0.126   \n",
      "1                       NaN                    0.126                  0.000   \n",
      "2                       NaN                    0.126                  0.000   \n",
      "3                       NaN                    0.126                  0.000   \n",
      "4                       NaN                    0.126                  0.000   \n",
      "...                     ...                      ...                    ...   \n",
      "166321                1.000                15694.959                 32.533   \n",
      "166322                1.143                15736.835                 41.876   \n",
      "166323                0.857                15736.835                  0.000   \n",
      "166324                0.714                15818.731                 81.897   \n",
      "166325                0.571                15837.284                 18.553   \n",
      "\n",
      "        new_cases_smoothed_per_million  total_deaths_per_million  ...  \\\n",
      "0                                  NaN                       NaN  ...   \n",
      "1                                  NaN                       NaN  ...   \n",
      "2                                  NaN                       NaN  ...   \n",
      "3                                  NaN                       NaN  ...   \n",
      "4                                  NaN                       NaN  ...   \n",
      "...                                ...                       ...  ...   \n",
      "166321                          27.365                   357.470  ...   \n",
      "166322                          27.583                   357.536  ...   \n",
      "166323                          24.005                   357.536  ...   \n",
      "166324                          30.972                   357.603  ...   \n",
      "166325                          30.442                   357.603  ...   \n",
      "\n",
      "        female_smokers  male_smokers  handwashing_facilities  \\\n",
      "0                  NaN           NaN                  37.746   \n",
      "1                  NaN           NaN                  37.746   \n",
      "2                  NaN           NaN                  37.746   \n",
      "3                  NaN           NaN                  37.746   \n",
      "4                  NaN           NaN                  37.746   \n",
      "...                ...           ...                     ...   \n",
      "166321             1.6          30.7                  36.791   \n",
      "166322             1.6          30.7                  36.791   \n",
      "166323             1.6          30.7                  36.791   \n",
      "166324             1.6          30.7                  36.791   \n",
      "166325             1.6          30.7                  36.791   \n",
      "\n",
      "        hospital_beds_per_thousand  life_expectancy  human_development_index  \\\n",
      "0                              0.5            64.83                    0.511   \n",
      "1                              0.5            64.83                    0.511   \n",
      "2                              0.5            64.83                    0.511   \n",
      "3                              0.5            64.83                    0.511   \n",
      "4                              0.5            64.83                    0.511   \n",
      "...                            ...              ...                      ...   \n",
      "166321                         1.7            61.49                    0.571   \n",
      "166322                         1.7            61.49                    0.571   \n",
      "166323                         1.7            61.49                    0.571   \n",
      "166324                         1.7            61.49                    0.571   \n",
      "166325                         1.7            61.49                    0.571   \n",
      "\n",
      "        excess_mortality_cumulative_absolute  excess_mortality_cumulative  \\\n",
      "0                                        NaN                          NaN   \n",
      "1                                        NaN                          NaN   \n",
      "2                                        NaN                          NaN   \n",
      "3                                        NaN                          NaN   \n",
      "4                                        NaN                          NaN   \n",
      "...                                      ...                          ...   \n",
      "166321                                   NaN                          NaN   \n",
      "166322                                   NaN                          NaN   \n",
      "166323                                   NaN                          NaN   \n",
      "166324                                   NaN                          NaN   \n",
      "166325                                   NaN                          NaN   \n",
      "\n",
      "        excess_mortality  excess_mortality_cumulative_per_million  \n",
      "0                    NaN                                      NaN  \n",
      "1                    NaN                                      NaN  \n",
      "2                    NaN                                      NaN  \n",
      "3                    NaN                                      NaN  \n",
      "4                    NaN                                      NaN  \n",
      "...                  ...                                      ...  \n",
      "166321               NaN                                      NaN  \n",
      "166322               NaN                                      NaN  \n",
      "166323               NaN                                      NaN  \n",
      "166324               NaN                                      NaN  \n",
      "166325               NaN                                      NaN  \n",
      "\n",
      "[166326 rows x 62 columns]\n",
      "Empty DataFrame\n",
      "Columns: []\n",
      "Index: [0, 1, 2, 3, 4, 5, 6, 7, 8, 9, 10, 11, 12, 13, 14, 15, 16, 17, 18, 19, 20, 21, 22, 23, 24, 25, 26, 27, 28, 29, 30, 31, 32, 33, 34, 35, 36, 37, 38, 39, 40, 41, 42, 43, 44, 45, 46, 47, 48, 49, 50, 51, 52, 53, 54, 55, 56, 57, 58, 59, 60, 61, 62, 63, 64, 65, 66, 67, 68, 69, 70, 71, 72, 73, 74, 75, 76, 77, 78, 79, 80, 81, 82, 83, 84, 85, 86, 87, 88, 89, 90, 91, 92, 93, 94, 95, 96, 97, 98, 99, ...]\n",
      "\n",
      "[166326 rows x 0 columns]\n"
     ]
    }
   ],
   "source": [
    "#Separating categoric and numeric variables\n",
    "covid_data_num_vars = covid_data.select_dtypes(include='number')\n",
    "covid_data_categ_vars = covid_data.select_dtypes(include='category')\n",
    "\n",
    "print(covid_data_num_vars)\n",
    "\n",
    "print(covid_data_categ_vars)\n"
   ]
  },
  {
   "cell_type": "code",
   "execution_count": 131,
   "metadata": {},
   "outputs": [
    {
     "name": "stdout",
     "output_type": "stream",
     "text": [
      "weekly_icu_admissions                      96.73\n",
      "weekly_icu_admissions_per_million          96.73\n",
      "excess_mortality_cumulative_absolute       96.58\n",
      "excess_mortality_cumulative                96.58\n",
      "excess_mortality                           96.58\n",
      "excess_mortality_cumulative_per_million    96.58\n",
      "weekly_hosp_admissions                     93.43\n",
      "weekly_hosp_admissions_per_million         93.43\n",
      "total_boosters                             89.46\n",
      "total_boosters_per_hundred                 89.46\n",
      "icu_patients                               85.89\n",
      "icu_patients_per_million                   85.89\n",
      "hosp_patients                              85.20\n",
      "hosp_patients_per_million                  85.20\n",
      "new_vaccinations                           77.49\n",
      "dtype: float64\n"
     ]
    }
   ],
   "source": [
    "#Finding amount of missing data in all columns\n",
    "cols_missing_data = covid_data.isnull().sum()\n",
    "\n",
    "#Calculating % missing data per column\n",
    "percent_missing_data = round((cols_missing_data/covid_data.shape[0])*100,2)\n",
    "\n",
    "#Identifying the top 15 columns missing data (by %)\n",
    "top_cols_missing_data = percent_missing_data.nlargest(15)\n",
    "print(top_cols_missing_data)\n",
    "\n",
    "\n"
   ]
  },
  {
   "cell_type": "markdown",
   "metadata": {},
   "source": [
    "The columns from `weekly_icu_admissions` to `weekly_hosp_admissions_per_million` have the highest % of missing data by a 5% margin compared to the columns that follow. Although these columns would be interesting to explore, all are mostly missing data, so they will be dropped."
   ]
  },
  {
   "cell_type": "code",
   "execution_count": 89,
   "metadata": {},
   "outputs": [],
   "source": [
    "\n",
    "# 3. Dropping the columns below\n",
    "data_drop = covid_data.drop(columns=['weekly_icu_admissions', 'weekly_icu_admissions_per_million', 'excess_mortality_cumulative_absolute', 'excess_mortality_cumulative', 'excess_mortality','excess_mortality_cumulative_per_million', 'weekly_hosp_admissions', 'weekly_hosp_admissions_per_million'])"
   ]
  },
  {
   "cell_type": "code",
   "execution_count": 90,
   "metadata": {},
   "outputs": [
    {
     "name": "stdout",
     "output_type": "stream",
     "text": [
      "(166326, 67)\n"
     ]
    }
   ],
   "source": [
    "# Viewing the updated shape of covid_data dataset\n",
    "covid_data_shape = covid_data.shape \n",
    "print(covid_data_shape)"
   ]
  },
  {
   "cell_type": "code",
   "execution_count": 99,
   "metadata": {},
   "outputs": [
    {
     "data": {
      "image/png": "[encoded data removed]",
      "text/plain": [
       "<Figure size 640x480 with 1 Axes>"
      ]
     },
     "metadata": {},
     "output_type": "display_data"
    }
   ],
   "source": [
    "total_boosters_per_hundred_hist = plt.hist(covid_data['total_boosters_per_hundred'])"
   ]
  },
  {
   "cell_type": "code",
   "execution_count": 105,
   "metadata": {},
   "outputs": [
    {
     "data": {
      "image/png": "[encoded data removed]",
      "text/plain": [
       "<Figure size 640x480 with 1 Axes>"
      ]
     },
     "metadata": {},
     "output_type": "display_data"
    }
   ],
   "source": [
    "# Finding out if there are outliers in our data with a box-and-whiskers plot\n",
    "plt.boxplot(covid_data['icu_patients'], vert=False)\n",
    "plt.ylabel('Variable')\n",
    "plt.xlabel('Age')\n",
    "plt.title('Boxplot for Outliers')\n",
    "plt.show()\n",
    "\n",
    "\n"
   ]
  },
  {
   "cell_type": "code",
   "execution_count": 106,
   "metadata": {},
   "outputs": [
    {
     "data": {
      "text/plain": [
       "'hi'"
      ]
     },
     "execution_count": 106,
     "metadata": {},
     "output_type": "execute_result"
    }
   ],
   "source": [
    "\"hi\""
   ]
  },
  {
   "cell_type": "code",
   "execution_count": null,
   "metadata": {},
   "outputs": [],
   "source": [
    "# Exploratory Data Analysis "
   ]
  },
  {
   "cell_type": "code",
   "execution_count": null,
   "metadata": {},
   "outputs": [],
   "source": []
  }
 ],
 "metadata": {
  "kernelspec": {
   "display_name": "Python 3",
   "language": "python",
   "name": "python3"
  },
  "language_info": {
   "codemirror_mode": {
    "name": "ipython",
    "version": 3
   },
   "file_extension": ".py",
   "mimetype": "text/x-python",
   "name": "python",
   "nbconvert_exporter": "python",
   "pygments_lexer": "ipython3",
   "version": "3.12.5"
  }
 },
 "nbformat": 4,
 "nbformat_minor": 2
}
